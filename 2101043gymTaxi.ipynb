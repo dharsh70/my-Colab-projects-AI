{
  "nbformat": 4,
  "nbformat_minor": 0,
  "metadata": {
    "colab": {
      "provenance": [],
      "authorship_tag": "ABX9TyOGNPHguMMdYKZsEOJsuaLH",
      "include_colab_link": true
    },
    "kernelspec": {
      "name": "python3",
      "display_name": "Python 3"
    },
    "language_info": {
      "name": "python"
    }
  },
  "cells": [
    {
      "cell_type": "markdown",
      "metadata": {
        "id": "view-in-github",
        "colab_type": "text"
      },
      "source": [
        "<a href=\"https://colab.research.google.com/github/dharsh70/my-Colab-projects-AI/blob/main/2101043gymTaxi.ipynb\" target=\"_parent\"><img src=\"https://colab.research.google.com/assets/colab-badge.svg\" alt=\"Open In Colab\"/></a>"
      ]
    },
    {
      "cell_type": "code",
      "execution_count": null,
      "metadata": {
        "id": "3LRn9S_u_wRD"
      },
      "outputs": [],
      "source": [
        "import numpy as np\n",
        "import gym\n",
        "import random"
      ]
    },
    {
      "cell_type": "code",
      "source": [
        "def main():\n",
        "\n",
        "    # create Taxi environment\n",
        "    env = gym.make('Taxi-v3')\n",
        "\n",
        "    # initialize q-table\n",
        "    state_size = env.observation_space.n\n",
        "    action_size = env.action_space.n\n",
        "    qtable = np.zeros((state_size, action_size))\n",
        "\n",
        "    # hyperparameters\n",
        "    learning_rate = 0.6\n",
        "    discount_rate = 0.8\n",
        "    epsilon = 0.7\n",
        "    decay_rate= 0.005\n",
        "\n",
        "    # training variables\n",
        "    num_episodes = 1000\n",
        "    max_steps = 99 # per episode\n",
        "\n",
        "    # training\n",
        "    for episode in range(num_episodes):\n",
        "\n",
        "        # reset the environment\n",
        "        state = env.reset()\n",
        "        done = False\n",
        "\n",
        "        for s in range(max_steps):\n",
        "\n",
        "            # exploration-exploitation tradeoff\n",
        "            if random.uniform(0,1) < epsilon:\n",
        "                # explore\n",
        "                action = env.action_space.sample()\n",
        "            else:\n",
        "                # exploit\n",
        "                action = np.argmax(qtable[state,:])\n",
        "\n",
        "            # take action and observe reward\n",
        "            new_state, reward, done, info = env.step(action)\n",
        "\n",
        "            # Q-learning algorithm\n",
        "            qtable[state,action] = qtable[state,action] + learning_rate * (reward + discount_rate * np.max(qtable[new_state,:])-qtable[state,action])\n",
        "\n",
        "            # Update to our new state\n",
        "            state = new_state\n",
        "\n",
        "            # if done, finish episode\n",
        "            if done == True:\n",
        "                break\n",
        "\n",
        "        # Decrease epsilon\n",
        "        epsilon = np.exp(-decay_rate*episode)\n",
        "\n",
        "    print(f\"Training completed over {num_episodes} episodes\")\n",
        "    input(\"Press Enter to watch trained agent...\")\n",
        "\n",
        "    # watch trained agent\n",
        "    state = env.reset()\n",
        "    done = False\n",
        "    rewards = 0\n",
        "\n",
        "    for s in range(max_steps):\n",
        "\n",
        "        print(f\"TRAINED AGENT\")\n",
        "        print(\"Step {}\".format(s+1))\n",
        "\n",
        "        action = np.argmax(qtable[state,:])\n",
        "        new_state, reward, done, info = env.step(action)\n",
        "        rewards += reward\n",
        "        env.render()\n",
        "        print(f\"score: {rewards}\")\n",
        "        state = new_state\n",
        "\n",
        "        if done == True:\n",
        "            break\n",
        "\n",
        "    env.close()\n"
      ],
      "metadata": {
        "colab": {
          "base_uri": "https://localhost:8080/"
        },
        "id": "QpbLY7cL__a5",
        "outputId": "6ced7813-74dc-4db3-fb72-8b012a0b8e5e"
      },
      "execution_count": null,
      "outputs": [
        {
          "output_type": "stream",
          "name": "stderr",
          "text": [
            "/usr/local/lib/python3.10/dist-packages/ipykernel/ipkernel.py:283: DeprecationWarning: `should_run_async` will not call `transform_cell` automatically in the future. Please pass the result to `transformed_cell` argument and any exception that happen during thetransform in `preprocessing_exc_tuple` in IPython 7.17 and above.\n",
            "  and should_run_async(code)\n"
          ]
        }
      ]
    },
    {
      "cell_type": "code",
      "source": [
        "if __name__ == \"__main__\":\n",
        "    main()"
      ],
      "metadata": {
        "colab": {
          "base_uri": "https://localhost:8080/"
        },
        "id": "MxSuk2sc__dP",
        "outputId": "43d0ee44-8bed-4351-ce63-2df065242646"
      },
      "execution_count": null,
      "outputs": [
        {
          "output_type": "stream",
          "name": "stdout",
          "text": [
            "Training completed over 1000 episodes\n",
            "Press Enter to watch trained agent...\n",
            "TRAINED AGENT\n",
            "Step 1\n",
            "score: -1\n",
            "TRAINED AGENT\n",
            "Step 2\n",
            "score: -2\n",
            "TRAINED AGENT\n",
            "Step 3\n",
            "score: -3\n",
            "TRAINED AGENT\n",
            "Step 4\n",
            "score: -4\n",
            "TRAINED AGENT\n",
            "Step 5\n",
            "score: -5\n",
            "TRAINED AGENT\n",
            "Step 6\n",
            "score: -6\n",
            "TRAINED AGENT\n",
            "Step 7\n",
            "score: -7\n",
            "TRAINED AGENT\n",
            "Step 8\n",
            "score: -8\n",
            "TRAINED AGENT\n",
            "Step 9\n",
            "score: -9\n",
            "TRAINED AGENT\n",
            "Step 10\n",
            "score: 11\n"
          ]
        }
      ]
    }
  ]
}