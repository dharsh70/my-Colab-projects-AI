{
  "nbformat": 4,
  "nbformat_minor": 0,
  "metadata": {
    "colab": {
      "provenance": [],
      "authorship_tag": "ABX9TyO7Rp/y/ALQtSo1h2t7oSps",
      "include_colab_link": true
    },
    "kernelspec": {
      "name": "python3",
      "display_name": "Python 3"
    },
    "language_info": {
      "name": "python"
    }
  },
  "cells": [
    {
      "cell_type": "markdown",
      "metadata": {
        "id": "view-in-github",
        "colab_type": "text"
      },
      "source": [
        "<a href=\"https://colab.research.google.com/github/dharsh70/my-Colab-projects-AI/blob/main/Simple_Binary_Crossentropy.ipynb\" target=\"_parent\"><img src=\"https://colab.research.google.com/assets/colab-badge.svg\" alt=\"Open In Colab\"/></a>"
      ]
    },
    {
      "cell_type": "code",
      "execution_count": null,
      "metadata": {
        "colab": {
          "base_uri": "https://localhost:8080/"
        },
        "id": "G4VXX5t9w7hh",
        "outputId": "5e9cc4d4-4e9d-48bf-d7d3-8721a9367f64"
      },
      "outputs": [
        {
          "output_type": "stream",
          "name": "stdout",
          "text": [
            "1/1 [==============================] - 0s 261ms/step\n",
            "Prediction for new situation [[1 0 0]]: 0\n"
          ]
        }
      ],
      "source": [
        "import numpy as np\n",
        "import tensorflow as tf\n",
        "from tensorflow.keras.models import Sequential\n",
        "from tensorflow.keras.layers import Dense\n",
        "\n",
        "# Step 1: Prepare the dataset\n",
        "# Inputs\n",
        "X = np.array([\n",
        "    [0, 0, 1],\n",
        "    [1, 1, 1],\n",
        "    [1, 0, 1],\n",
        "    [0, 1, 1]\n",
        "])\n",
        "\n",
        "# Outputs\n",
        "y = np.array([\n",
        "    [0],\n",
        "    [1],\n",
        "    [1],\n",
        "    [0]\n",
        "])\n",
        "\n",
        "# New situation for prediction\n",
        "new_situation = np.array([[1, 0, 0]])\n",
        "\n",
        "# Step 2: Build the neural network model\n",
        "model = Sequential()\n",
        "model.add(Dense(4, input_dim=3, activation='relu'))  # Hidden layer with 4 neurons\n",
        "model.add(Dense(1, activation='sigmoid'))  # Output layer with 1 neuron\n",
        "\n",
        "# Step 3: Compile the model\n",
        "model.compile(loss='binary_crossentropy', optimizer='adam', metrics=['accuracy'])\n",
        "\n",
        "# Step 4: Train the model\n",
        "model.fit(X, y, epochs=10, verbose=0)  # Train the model with 1000 epochs\n",
        "\n",
        "# Step 5: Predict the output for the new situation\n",
        "prediction = model.predict(new_situation)\n",
        "predicted_class = (prediction > 0.5).astype(int)  # Convert probabilities to binary output\n",
        "\n",
        "print(f'Prediction for new situation {new_situation}: {predicted_class[0][0]}')\n"
      ]
    }
  ]
}